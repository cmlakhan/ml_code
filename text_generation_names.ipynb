{
  "nbformat": 4,
  "nbformat_minor": 0,
  "metadata": {
    "colab": {
      "name": "text_generation_names",
      "provenance": [],
      "collapsed_sections": [],
      "authorship_tag": "ABX9TyM8bubNMWdaZOURvxunQEhr",
      "include_colab_link": true
    },
    "kernelspec": {
      "name": "python3",
      "display_name": "Python 3"
    },
    "language_info": {
      "name": "python"
    },
    "accelerator": "GPU"
  },
  "cells": [
    {
      "cell_type": "markdown",
      "metadata": {
        "id": "view-in-github",
        "colab_type": "text"
      },
      "source": [
        "<a href=\"https://colab.research.google.com/github/cmlakhan/ml_code/blob/master/text_generation_names.ipynb\" target=\"_parent\"><img src=\"https://colab.research.google.com/assets/colab-badge.svg\" alt=\"Open In Colab\"/></a>"
      ]
    },
    {
      "cell_type": "code",
      "metadata": {
        "id": "15sRg7Toiwtc"
      },
      "source": [
        "import json\n",
        "import pandas as pd\n",
        "import urllib.request\n",
        "\n",
        "from __future__ import unicode_literals, print_function, division\n",
        "import unicodedata\n",
        "import string\n",
        "\n",
        "import torch\n",
        "import torch.nn as nn\n",
        "\n",
        "import random\n",
        "import time\n",
        "import math\n",
        "\n"
      ],
      "execution_count": 1,
      "outputs": []
    },
    {
      "cell_type": "code",
      "metadata": {
        "id": "SJh68DC1iySJ"
      },
      "source": [
        "def convertASCII(word):\n",
        "    asciiWord = \"\"\n",
        "    word = str(word).rstrip()\n",
        "    for c in word:\n",
        "        if c in characterMap.keys():\n",
        "            asciiWord = asciiWord + characterMap[c]\n",
        "        else:\n",
        "            asciiWord = asciiWord + c\n",
        "    return asciiWord;\n",
        "\n",
        "\n",
        "def unicodeToAscii(s):\n",
        "    return ''.join(\n",
        "        c for c in unicodedata.normalize('NFD', s)\n",
        "        if unicodedata.category(c) != 'Mn'\n",
        "        and c in all_letters\n",
        "    )\n",
        "\n",
        "# One-hot vector for category\n",
        "def categoryTensor(category):\n",
        "    li = all_categories.index(category)\n",
        "    tensor = torch.zeros(1, n_categories)\n",
        "    tensor[0][li] = 1\n",
        "    return tensor\n",
        "\n",
        "# One-hot matrix of first to last letters (not including EOS) for input\n",
        "def inputTensor(line):\n",
        "    tensor = torch.zeros(len(line), 1, n_letters)\n",
        "    for li in range(len(line)):\n",
        "        letter = line[li]\n",
        "        tensor[li][0][all_letters.find(letter)] = 1\n",
        "    return tensor\n",
        "\n",
        "# LongTensor of second letter to end (EOS) for target\n",
        "def targetTensor(line):\n",
        "    letter_indexes = [all_letters.find(line[li]) for li in range(1, len(line))]\n",
        "    letter_indexes.append(n_letters - 1) # EOS\n",
        "    return torch.LongTensor(letter_indexes)\n",
        "\n",
        "\n",
        "class RNN(nn.Module):\n",
        "    def __init__(self, input_size, hidden_size, output_size):\n",
        "        super(RNN, self).__init__()\n",
        "        self.hidden_size = hidden_size\n",
        "\n",
        "        self.i2h = nn.Linear(n_categories + input_size + hidden_size, hidden_size)\n",
        "        self.i2o = nn.Linear(n_categories + input_size + hidden_size, output_size)\n",
        "        self.o2o = nn.Linear(hidden_size + output_size, output_size)\n",
        "        self.dropout = nn.Dropout(0.1)\n",
        "        self.softmax = nn.LogSoftmax(dim=1)\n",
        "\n",
        "    def forward(self, category, input, hidden):\n",
        "        input_combined = torch.cat((category, input, hidden), 1)\n",
        "        hidden = self.i2h(input_combined)\n",
        "        output = self.i2o(input_combined)\n",
        "        output_combined = torch.cat((hidden, output), 1)\n",
        "        output = self.o2o(output_combined)\n",
        "        output = self.dropout(output)\n",
        "        output = self.softmax(output)\n",
        "        return output, hidden\n",
        "\n",
        "    def initHidden(self):\n",
        "        return torch.zeros(1, self.hidden_size, device='cuda')\n",
        "\n",
        "def train(category_tensor, input_line_tensor, target_line_tensor, optimizer):\n",
        "    target_line_tensor.unsqueeze_(-1)\n",
        "    hidden = rnn.initHidden()\n",
        "\n",
        "    optimizer.zero_grad()\n",
        "\n",
        "\n",
        "    loss = 0\n",
        "\n",
        "    for i in range(input_line_tensor.size(0)):\n",
        "        output, hidden = rnn(category_tensor, input_line_tensor[i], hidden)\n",
        "        l = criterion(output, target_line_tensor[i])\n",
        "        loss += l\n",
        "\n",
        "    loss.backward()\n",
        "    nn.utils.clip_grad_norm_(rnn.parameters(), max_norm=2.0, norm_type=2)\n",
        "    optimizer.step()\n",
        "\n",
        "    loss_val = loss.detach().cpu().numpy() / input_line_tensor.size(0)\n",
        "\n",
        "    return output, loss_val\n",
        "\n",
        "def timeSince(since):\n",
        "    now = time.time()\n",
        "    s = now - since\n",
        "    m = math.floor(s / 60)\n",
        "    s -= m * 60\n",
        "    return '%dm %ds' % (m, s)\n",
        "\n",
        "def sample(category, start_letter='A'):\n",
        "    with torch.no_grad():  # no need to track history in sampling\n",
        "        category_tensor = categoryTensor(category)\n",
        "        input = inputTensor(start_letter)\n",
        "        hidden = rnn.initHidden()\n",
        "        hidden = hidden.to('cpu')\n",
        "\n",
        "        output_name = start_letter\n",
        "\n",
        "        for i in range(max_length):\n",
        "            output, hidden = rnn(category_tensor, input[0], hidden)\n",
        "            topv, topi = output.topk(1)\n",
        "            topi = topi[0][0]\n",
        "            if topi == n_letters - 1:\n",
        "                break\n",
        "            else:\n",
        "                letter = all_letters[topi]\n",
        "                output_name += letter\n",
        "            input = inputTensor(letter)\n",
        "\n",
        "        return output_name\n",
        "\n",
        "def samples(category, start_letters='ABC'):\n",
        "    for start_letter in start_letters:\n",
        "        print(sample(category, start_letter))\n",
        "\n",
        "\n"
      ],
      "execution_count": 4,
      "outputs": []
    },
    {
      "cell_type": "code",
      "metadata": {
        "id": "LW9ZbqM-jG4f"
      },
      "source": [
        "\n",
        "all_letters = string.ascii_letters + \" .,;'-\"\n",
        "n_letters = len(all_letters) + 1  # Plus EOS marker\n",
        "\n",
        "list_names = ['Arabic', 'Chinese', 'Czech', 'Dutch',\n",
        "              'English', 'French', 'German', 'Greek',\n",
        "              'Irish', 'Italian', 'Japanese', 'Korean',\n",
        "              'Polish', 'Portuguese', 'Russian', 'Scottish',\n",
        "              'Spanish', 'Vietnamese']\n",
        "\n"
      ],
      "execution_count": 5,
      "outputs": []
    },
    {
      "cell_type": "code",
      "metadata": {
        "id": "CoSd4dFUjILE"
      },
      "source": [
        "\n",
        "data = []\n",
        "for ethnicity in list_names:\n",
        "    url = \"https://github.com/cmlakhan/ml_code/raw/master/sequential_modeling/data/names/{}.txt\".format(ethnicity)\n",
        "    file = urllib.request.urlopen(url)\n",
        "\n",
        "    for line in file:\n",
        "        data.append({'name': line.decode('utf-8'), 'ethnicity':ethnicity})\n",
        "\n",
        "\n",
        "names_df = pd.DataFrame(data)\n",
        "all_categories = names_df.ethnicity.unique().tolist()\n",
        "n_categories = len(all_categories)\n",
        "\n",
        "\n",
        "names_df[['name_ascii']] = names_df.name.apply(lambda x: unicodeToAscii(x))\n"
      ],
      "execution_count": 14,
      "outputs": []
    },
    {
      "cell_type": "code",
      "metadata": {
        "colab": {
          "base_uri": "https://localhost:8080/",
          "height": 204
        },
        "id": "T0yS5JPEjJ1L",
        "outputId": "c0577a66-a4a9-45c0-fd78-6e7f2550f349"
      },
      "source": [
        "names_df.head()\n"
      ],
      "execution_count": 15,
      "outputs": [
        {
          "output_type": "execute_result",
          "data": {
            "text/html": [
              "<div>\n",
              "<style scoped>\n",
              "    .dataframe tbody tr th:only-of-type {\n",
              "        vertical-align: middle;\n",
              "    }\n",
              "\n",
              "    .dataframe tbody tr th {\n",
              "        vertical-align: top;\n",
              "    }\n",
              "\n",
              "    .dataframe thead th {\n",
              "        text-align: right;\n",
              "    }\n",
              "</style>\n",
              "<table border=\"1\" class=\"dataframe\">\n",
              "  <thead>\n",
              "    <tr style=\"text-align: right;\">\n",
              "      <th></th>\n",
              "      <th>name</th>\n",
              "      <th>ethnicity</th>\n",
              "      <th>name_ascii</th>\n",
              "    </tr>\n",
              "  </thead>\n",
              "  <tbody>\n",
              "    <tr>\n",
              "      <th>0</th>\n",
              "      <td>Khoury\\n</td>\n",
              "      <td>Arabic</td>\n",
              "      <td>Khoury</td>\n",
              "    </tr>\n",
              "    <tr>\n",
              "      <th>1</th>\n",
              "      <td>Nahas\\n</td>\n",
              "      <td>Arabic</td>\n",
              "      <td>Nahas</td>\n",
              "    </tr>\n",
              "    <tr>\n",
              "      <th>2</th>\n",
              "      <td>Daher\\n</td>\n",
              "      <td>Arabic</td>\n",
              "      <td>Daher</td>\n",
              "    </tr>\n",
              "    <tr>\n",
              "      <th>3</th>\n",
              "      <td>Gerges\\n</td>\n",
              "      <td>Arabic</td>\n",
              "      <td>Gerges</td>\n",
              "    </tr>\n",
              "    <tr>\n",
              "      <th>4</th>\n",
              "      <td>Nazari\\n</td>\n",
              "      <td>Arabic</td>\n",
              "      <td>Nazari</td>\n",
              "    </tr>\n",
              "  </tbody>\n",
              "</table>\n",
              "</div>"
            ],
            "text/plain": [
              "       name ethnicity name_ascii\n",
              "0  Khoury\\n    Arabic     Khoury\n",
              "1   Nahas\\n    Arabic      Nahas\n",
              "2   Daher\\n    Arabic      Daher\n",
              "3  Gerges\\n    Arabic     Gerges\n",
              "4  Nazari\\n    Arabic     Nazari"
            ]
          },
          "metadata": {},
          "execution_count": 15
        }
      ]
    },
    {
      "cell_type": "code",
      "metadata": {
        "id": "67gECA3ejK-5"
      },
      "source": [
        "\n",
        "\n",
        "rnn = RNN(n_letters, 512, n_letters)\n",
        "criterion = nn.NLLLoss()\n",
        "learning_rate = 0.0005\n",
        "frac = 1.00\n",
        "num_epochs = 2\n",
        "\n",
        "print_every = 1000\n",
        "plot_every = 200\n",
        "all_losses = []\n",
        "total_loss = 0 # Reset every plot_every iters\n",
        "\n",
        "\n",
        "start = time.time()\n",
        "device = 'cuda'\n",
        "\n",
        "rnn.to(device)\n",
        "\n",
        "optimizer = torch.optim.AdamW(rnn.parameters(), lr=learning_rate, weight_decay=0.00001, amsgrad=False)\n"
      ],
      "execution_count": 16,
      "outputs": []
    },
    {
      "cell_type": "code",
      "metadata": {
        "colab": {
          "base_uri": "https://localhost:8080/"
        },
        "id": "en7gWRV8jqHB",
        "outputId": "f3be5029-9c70-45a1-9cc0-c8c3a0e34025"
      },
      "source": [
        "\n",
        "iter = 0\n",
        "for i in range(1,num_epochs+1):\n",
        "    print('Epoch #{}'.format(i))\n",
        "    subset_df = names_df.sample(frac=frac)\n",
        "    len_df = subset_df.shape[0]\n",
        "    for index,row in subset_df.iterrows():\n",
        "        iter += 1\n",
        "        category_tensor = categoryTensor(row.ethnicity)\n",
        "        input_line_tensor = inputTensor(row.name_ascii)\n",
        "        target_line_tensor = targetTensor(row.name_ascii)\n",
        "        category_tensor = category_tensor.to(device)\n",
        "        input_line_tensor = input_line_tensor.to(device)\n",
        "        target_line_tensor = target_line_tensor.to(device)\n",
        "        output, loss = train(category_tensor, input_line_tensor, target_line_tensor, optimizer)\n",
        "        total_loss += loss\n",
        "        if iter % print_every == 0:\n",
        "            print('%s (%d %d%%) %.4f' % (timeSince(start), iter, iter / len_df * 100, loss))\n",
        "        if iter % plot_every == 0:\n",
        "            all_losses.append(total_loss / plot_every)\n",
        "            total_loss = 0\n",
        "\n"
      ],
      "execution_count": 17,
      "outputs": [
        {
          "output_type": "stream",
          "text": [
            "Epoch #1\n",
            "0m 4s (1000 4%) 2.9466\n",
            "0m 9s (2000 9%) 2.5848\n",
            "0m 14s (3000 14%) 2.3064\n",
            "0m 19s (4000 19%) 2.0766\n",
            "0m 24s (5000 24%) 2.8925\n",
            "0m 29s (6000 29%) 2.6664\n",
            "0m 34s (7000 34%) 2.1562\n",
            "0m 39s (8000 39%) 2.2858\n",
            "0m 44s (9000 44%) 1.5953\n",
            "0m 49s (10000 49%) 2.0796\n",
            "0m 53s (11000 54%) 2.6860\n",
            "0m 58s (12000 59%) 2.2077\n",
            "1m 3s (13000 64%) 2.7254\n",
            "1m 8s (14000 69%) 1.6346\n",
            "1m 13s (15000 74%) 2.7721\n",
            "1m 18s (16000 79%) 3.6822\n",
            "1m 23s (17000 84%) 1.5948\n",
            "1m 27s (18000 89%) 1.8411\n",
            "1m 32s (19000 94%) 3.2409\n",
            "1m 37s (20000 99%) 2.7277\n",
            "Epoch #2\n",
            "1m 42s (21000 104%) 2.0885\n",
            "1m 47s (22000 109%) 2.6189\n",
            "1m 52s (23000 114%) 3.1790\n",
            "1m 57s (24000 119%) 2.4154\n",
            "2m 1s (25000 124%) 2.9946\n",
            "2m 6s (26000 129%) 2.0383\n",
            "2m 11s (27000 134%) 3.1186\n",
            "2m 16s (28000 139%) 2.0506\n",
            "2m 21s (29000 144%) 2.0248\n",
            "2m 26s (30000 149%) 2.9264\n",
            "2m 31s (31000 154%) 2.4684\n",
            "2m 35s (32000 159%) 2.2894\n",
            "2m 40s (33000 164%) 2.3709\n",
            "2m 45s (34000 169%) 2.6900\n",
            "2m 50s (35000 174%) 2.6293\n",
            "2m 55s (36000 179%) 1.7102\n",
            "3m 0s (37000 184%) 2.0464\n",
            "3m 5s (38000 189%) 2.1455\n",
            "3m 10s (39000 194%) 2.8950\n",
            "3m 15s (40000 199%) 1.7416\n"
          ],
          "name": "stdout"
        }
      ]
    },
    {
      "cell_type": "code",
      "metadata": {
        "colab": {
          "base_uri": "https://localhost:8080/",
          "height": 282
        },
        "id": "3OHosmvVjs55",
        "outputId": "68be829a-3c79-49ab-c10f-84a29876eb89"
      },
      "source": [
        "\n",
        "import matplotlib.pyplot as plt\n",
        "\n",
        "plt.figure()\n",
        "plt.plot(all_losses)\n"
      ],
      "execution_count": 18,
      "outputs": [
        {
          "output_type": "execute_result",
          "data": {
            "text/plain": [
              "[<matplotlib.lines.Line2D at 0x7fc570e20210>]"
            ]
          },
          "metadata": {},
          "execution_count": 18
        },
        {
          "output_type": "display_data",
          "data": {
            "image/png": "[encoded data removed]",
            "text/plain": [
              "<Figure size 432x288 with 1 Axes>"
            ]
          },
          "metadata": {
            "needs_background": "light"
          }
        }
      ]
    },
    {
      "cell_type": "code",
      "metadata": {
        "colab": {
          "base_uri": "https://localhost:8080/"
        },
        "id": "yw0J2oCmkmQn",
        "outputId": "296a3aec-008c-4144-83dc-13660138ff44"
      },
      "source": [
        "\n",
        "max_length = 20\n",
        "rnn.to('cpu')\n",
        "samples('Arabic', 'RUS')\n",
        "\n"
      ],
      "execution_count": 19,
      "outputs": [
        {
          "output_type": "stream",
          "text": [
            "Raham\n",
            "Usham\n",
            "Shama\n"
          ],
          "name": "stdout"
        }
      ]
    },
    {
      "cell_type": "code",
      "metadata": {
        "id": "DILh9r7wknY3"
      },
      "source": [
        ""
      ],
      "execution_count": null,
      "outputs": []
    }
  ]
}